{
 "cells": [
  {
   "cell_type": "markdown",
   "metadata": {},
   "source": [
    "<!-- Projeto Desenvolvido na Data Science Academy - www.datascienceacademy.com.br -->\n",
    "# <font color='blue'>Data Science Academy</font>\n",
    "## <font color='blue'>Matemática e Estatística Aplicada Para Data Science, Machine Learning e IA</font>\n",
    "## <font color='blue'>Lista de Exercícios 1</font>\n",
    "## <font color='blue'>Matemática Fundamental com Linguagem Python</font>"
   ]
  },
  {
   "cell_type": "markdown",
   "metadata": {},
   "source": [
    "### Instalando e Carregando Pacotes"
   ]
  },
  {
   "cell_type": "code",
   "execution_count": null,
   "metadata": {},
   "outputs": [],
   "source": [
    "# Para atualizar um pacote, execute o comando abaixo no terminal ou prompt de comando:\n",
    "# pip install -U nome_pacote\n",
    "\n",
    "# Para instalar a versão exata de um pacote, execute o comando abaixo no terminal ou prompt de comando:\n",
    "# !pip install nome_pacote==versão_desejada\n",
    "\n",
    "# Depois de instalar ou atualizar o pacote, reinicie o jupyter notebook.\n",
    "\n",
    "# Instala o pacote watermark. \n",
    "# Esse pacote é usado para gravar as versões de outros pacotes usados neste jupyter notebook.\n",
    "!pip install -q -U watermark"
   ]
  },
  {
   "cell_type": "code",
   "execution_count": 9,
   "metadata": {},
   "outputs": [
    {
     "name": "stdout",
     "output_type": "stream",
     "text": [
      "Author: Data Science Academy\n",
      "\n"
     ]
    }
   ],
   "source": [
    "# Versões dos pacotes usados neste jupyter notebook\n",
    "%reload_ext watermark\n",
    "%watermark -a \"Data Science Academy\" --iversions"
   ]
  },
  {
   "cell_type": "markdown",
   "metadata": {},
   "source": [
    "**Resolva os exercícios abaixo usando Linguagem Python. Faça pesquisa complementar se necessário.**"
   ]
  },
  {
   "cell_type": "markdown",
   "metadata": {},
   "source": [
    "### Exercício 1: Cálculo de Área de um Círculo\n",
    "\n",
    "Escreva um programa que calcula a área de um círculo. O usuário deve fornecer o raio e o programa deve retornar a área."
   ]
  },
  {
   "cell_type": "code",
   "execution_count": 12,
   "metadata": {},
   "outputs": [
    {
     "name": "stdout",
     "output_type": "stream",
     "text": [
      "Área do círculo: 6361.725123519331\n"
     ]
    }
   ],
   "source": [
    "#r = input(\"Digite o raio para calcular a área da circunferência: \")\n",
    "\n",
    "#r = float(r)\n",
    "\n",
    "#pi = 3.14\n",
    "\n",
    "#exp = 2\n",
    "\n",
    "#a = pi * r ** exp\n",
    "\n",
    "#print(f\"A área do círculo é: {a}\")\n",
    "\n",
    "import math\n",
    "\n",
    "def area_circulo(raio):\n",
    "\n",
    "    return math.pi * raio ** 2\n",
    "\n",
    "raio = float(input(\"Digite o raio do círculo: \"))\n",
    "\n",
    "print(\"Área do círculo:\", area_circulo(raio))\n"
   ]
  },
  {
   "cell_type": "markdown",
   "metadata": {},
   "source": [
    "### Exercício 2: Conversão de Temperatura\n",
    "\n",
    "Crie uma função que converte a temperatura de Celsius para Fahrenheit e vice-versa. O usuário deve informar a temperatura e a escala de origem."
   ]
  },
  {
   "cell_type": "code",
   "execution_count": 17,
   "metadata": {},
   "outputs": [
    {
     "name": "stdout",
     "output_type": "stream",
     "text": [
      "Temperatura em Celsius: 42.0\n"
     ]
    }
   ],
   "source": [
    "#temp = input('Digite o valor da temperatura que deseja converter: ')\n",
    "#temp = float(temp)\n",
    "\n",
    "#tipo = input('Digite se deseja transformar em Celsius ( Digite C ) ou Fahrenheit ( Digite F ): ')\n",
    "\n",
    "#if tipo == \"C\": \n",
    "    #conv = (9 / 5 * temp) + 32\n",
    "    #print(f'A temperatura convertida de Celsius para Fahrenheit é: {conv}')\n",
    "#elif tipo == 'F':\n",
    "    #conv = (temp - 32) * 5 / 9\n",
    "    #print(f\"A temperatura convertida de Fahrenheit para Celsius é: {conv}\")\n",
    "\n",
    "def celsius_para_fahrenheit(c):\n",
    "    return (c * 9 / 5) + 32\n",
    "\n",
    "def fahrenheit_para_celsius(f):\n",
    "    return (f - 32) * 5 / 9\n",
    "\n",
    "temp = float(input('Digite a temperatura: '))\n",
    "\n",
    "escala = input('Digite a escala (C para celsius, F para fahrenheit):')\n",
    "\n",
    "if escala.upper() == 'C':\n",
    "    print(\"Temperatura em Fahrenheit:\", celsius_para_fahrenheit(temp))\n",
    "else:\n",
    "    print(\"Temperatura em Celsius:\", fahrenheit_para_celsius(temp))\n"
   ]
  },
  {
   "cell_type": "markdown",
   "metadata": {},
   "source": [
    "### Exercício 3: Resolver uma Equação Linear\n",
    "\n",
    "Faça um programa que resolve uma equação linear do tipo ax + b = 0. Os valores de a e b são fornecidos pelo usuário."
   ]
  },
  {
   "cell_type": "code",
   "execution_count": 20,
   "metadata": {},
   "outputs": [
    {
     "name": "stdout",
     "output_type": "stream",
     "text": [
      "Solução da equação: -0.037037037037037035\n"
     ]
    }
   ],
   "source": [
    "#a = float(input('Digite o primeiro valor: '))\n",
    "\n",
    "#b = float(input('Digite o segundo valor: '))\n",
    "\n",
    "#resultado = - b / a\n",
    "\n",
    "#print(f\"O resultado é: {resultado}\")\n",
    "\n",
    "def resolve_linear (a,b):\n",
    "\n",
    "    if a == 0:\n",
    "        return \"Sem solução\" if b != 0 else \"Soluções infinitas!\"\n",
    "    \n",
    "    return - b / a\n",
    "\n",
    "a = float(input('Digite o valor de a: '))\n",
    "\n",
    "b = float(input('Digite o valor de b: '))\n",
    "\n",
    "print(\"Solução da equação:\", resolve_linear(a,b))\n"
   ]
  },
  {
   "cell_type": "markdown",
   "metadata": {},
   "source": [
    "### Exercício 4: Cálculo de Média Aritmética\n",
    "\n",
    "Escreva um programa que calcula a média aritmética de uma lista de números fornecida pelo usuário."
   ]
  },
  {
   "cell_type": "code",
   "execution_count": 24,
   "metadata": {},
   "outputs": [
    {
     "name": "stdout",
     "output_type": "stream",
     "text": [
      "Média aritmética 5.2\n"
     ]
    }
   ],
   "source": [
    "#entrada = input(\"Digite a quantidde de números desejada, separados por espaço: \")\n",
    "\n",
    "#lista_numeros = list(map(int, entrada.split()))\n",
    "\n",
    "#soma = sum(lista_numeros)\n",
    "\n",
    "#quantidade = len(lista_numeros)\n",
    "\n",
    "#media = soma / quantidade\n",
    "\n",
    "#print(f'A Média dos números é: {media:.0f}')\n",
    "\n",
    "def media_aritmetica(numeros):\n",
    "\n",
    "    return sum(numeros) / len(numeros)\n",
    "\n",
    "numeros = [float(n) for n in input(\"Digite a lista de números separados por espaço: \").split()]\n",
    "\n",
    "print(\"Média aritmética\",media_aritmetica(numeros))\n",
    "    "
   ]
  },
  {
   "cell_type": "markdown",
   "metadata": {},
   "source": [
    "### Exercício 5: Determinar as Raízes de uma Equação Quadrática\n",
    "\n",
    "Crie um programa que encontra as raízes de uma equação quadrática do tipo ax^2 + bx + c = 0. O programa deve lidar com todos os tipos de raízes (reais e complexas)."
   ]
  },
  {
   "cell_type": "code",
   "execution_count": 26,
   "metadata": {},
   "outputs": [
    {
     "name": "stdout",
     "output_type": "stream",
     "text": [
      "As raízes da equação são:  ((-0.13333333333333333+1.2840906856172147j), (-0.13333333333333333-1.2840906856172147j))\n"
     ]
    }
   ],
   "source": [
    "import cmath\n",
    "\n",
    "def raizes_quadraticas (a, b, c):\n",
    "    delta = cmath.sqrt(b**2 - 4*a*c)\n",
    "\n",
    "    x1 = (-b + delta) / (2 * a)\n",
    "    \n",
    "    x2 = (-b - delta) / (2 * a)\n",
    "\n",
    "    return (x1, x2)\n",
    "\n",
    "a = float(input(\"Digite o valor de a: \"))\n",
    "\n",
    "b = float(input(\"Digite o valor de b: \"))\n",
    "\n",
    "c = float(input(\"Digite o valor de c: \"))\n",
    "\n",
    "print(\"As raízes da equação são: \", raizes_quadraticas(a, b, c))"
   ]
  },
  {
   "cell_type": "markdown",
   "metadata": {},
   "source": [
    "### Exercício 6: Calcular o Fatorial de um Número\n",
    "\n",
    "Escreva uma função que calcula o fatorial de um número inteiro fornecido pelo usuário."
   ]
  },
  {
   "cell_type": "code",
   "execution_count": 32,
   "metadata": {},
   "outputs": [
    {
     "name": "stdout",
     "output_type": "stream",
     "text": [
      "Fatorial:  87178291200\n"
     ]
    }
   ],
   "source": [
    "def fatorial(n):\n",
    "\n",
    "    return 1 if n == 0 else n * fatorial(n-1)\n",
    "\n",
    "num = int(input(\"Digite um número \"))\n",
    "\n",
    "print(\"Fatorial: \", fatorial(num))"
   ]
  },
  {
   "cell_type": "markdown",
   "metadata": {},
   "source": [
    "### Exercício 7: Sequência de Fibonacci\n",
    "\n",
    "Crie um programa que gera a sequência de Fibonacci até um determinado número n fornecido pelo usuário."
   ]
  },
  {
   "cell_type": "code",
   "execution_count": 34,
   "metadata": {},
   "outputs": [
    {
     "name": "stdout",
     "output_type": "stream",
     "text": [
      "Sequências:  [0, 1, 1, 2, 3, 5, 8, 13, 21, 34]\n"
     ]
    }
   ],
   "source": [
    "def fibonacci(n):\n",
    "\n",
    "    a , b = 0 , 1\n",
    "\n",
    "    for _ in range (n):\n",
    "\n",
    "        yield a\n",
    "\n",
    "        a, b = b, a + b\n",
    "\n",
    "n = int(input(\"Digite o número de termos da sequência de Fibonacci: \"))\n",
    "\n",
    "print(\"Sequências: \", list(fibonacci(n)))"
   ]
  },
  {
   "cell_type": "markdown",
   "metadata": {},
   "source": [
    "### Exercício 8: Cálculo de Juros Compostos\n",
    "\n",
    "Faça um programa que calcula o montante final de um investimento com juros compostos. O usuário deve fornecer o capital inicial, a taxa de juros anual, e o número de anos."
   ]
  },
  {
   "cell_type": "code",
   "execution_count": null,
   "metadata": {},
   "outputs": [
    {
     "name": "stdout",
     "output_type": "stream",
     "text": [
      "Montante final: 13400.956406250005\n"
     ]
    }
   ],
   "source": [
    "def juros_compostos(capital, taxa, anos):\n",
    "\n",
    "    return capital * (1 + taxa) ** anos\n",
    "\n",
    "capital = float(input(\"Digite o capital inicial: \"))\n",
    "\n",
    "taxa = float(input(\"Digite a taxa de juros anual (em decimal): \"))\n",
    "\n",
    "anos = int(input(\"Digite o número de anos: \"))\n",
    "\n",
    "print(\"Montante final:\", juros_compostos(capital, taxa, anos))\n"
   ]
  },
  {
   "cell_type": "markdown",
   "metadata": {},
   "source": [
    "### Exercício 9: Conversão de Moedas\n",
    "\n",
    "Escreva um programa que converte uma quantidade de uma moeda (como dólar) para outra (como euro), considerando uma taxa de câmbio fornecida pelo usuário."
   ]
  },
  {
   "cell_type": "code",
   "execution_count": 3,
   "metadata": {},
   "outputs": [
    {
     "name": "stdout",
     "output_type": "stream",
     "text": [
      "Valor convertido:  648.0\n"
     ]
    }
   ],
   "source": [
    "def converter_moeda(valor,taxa_cambio):\n",
    "\n",
    "    return valor * taxa_cambio\n",
    "\n",
    "valor = float(input(\"Digite o valor da moeda original: \"))\n",
    "\n",
    "taxa_cambio = float(input(\"Digite a taxa de câmbio: \"))\n",
    "\n",
    "print(\"Valor convertido: \",converter_moeda(valor,taxa_cambio))"
   ]
  },
  {
   "cell_type": "markdown",
   "metadata": {},
   "source": [
    "### Exercício 10: Verificar se um Número é Primo\n",
    "\n",
    "Crie uma função que verifica se um número fornecido pelo usuário é primo ou não."
   ]
  },
  {
   "cell_type": "code",
   "execution_count": 6,
   "metadata": {},
   "outputs": [
    {
     "name": "stdout",
     "output_type": "stream",
     "text": [
      "O número não é primo!\n"
     ]
    }
   ],
   "source": [
    "def e_primo(num):\n",
    "\n",
    "    if num < 2:\n",
    "        \n",
    "        return False\n",
    "    \n",
    "    for i in range (2,int(num**0.5) +1):\n",
    "\n",
    "        if num % i == 0:\n",
    "            return False\n",
    "    return True\n",
    "\n",
    "numero = int(input(\"Digite um número \"))\n",
    "\n",
    "print(\"O número é primo!\" if e_primo(numero) else \"O número não é primo!\")"
   ]
  },
  {
   "cell_type": "code",
   "execution_count": 7,
   "metadata": {},
   "outputs": [
    {
     "name": "stdout",
     "output_type": "stream",
     "text": [
      "Author: Data Science Academy\n",
      "\n"
     ]
    }
   ],
   "source": [
    "%reload_ext watermark\n",
    "%watermark -a \"Data Science Academy\""
   ]
  },
  {
   "cell_type": "code",
   "execution_count": 8,
   "metadata": {},
   "outputs": [
    {
     "name": "stdout",
     "output_type": "stream",
     "text": [
      "Python implementation: CPython\n",
      "Python version       : 3.12.4\n",
      "IPython version      : 8.26.0\n",
      "\n",
      "Compiler    : MSC v.1940 64 bit (AMD64)\n",
      "OS          : Windows\n",
      "Release     : 11\n",
      "Machine     : AMD64\n",
      "Processor   : Intel64 Family 6 Model 165 Stepping 3, GenuineIntel\n",
      "CPU cores   : 12\n",
      "Architecture: 64bit\n",
      "\n"
     ]
    }
   ],
   "source": [
    "%watermark -v -m"
   ]
  },
  {
   "cell_type": "markdown",
   "metadata": {},
   "source": [
    "# Fim"
   ]
  }
 ],
 "metadata": {
  "kernelspec": {
   "display_name": "Python 3",
   "language": "python",
   "name": "python3"
  },
  "language_info": {
   "codemirror_mode": {
    "name": "ipython",
    "version": 3
   },
   "file_extension": ".py",
   "mimetype": "text/x-python",
   "name": "python",
   "nbconvert_exporter": "python",
   "pygments_lexer": "ipython3",
   "version": "3.12.4"
  }
 },
 "nbformat": 4,
 "nbformat_minor": 2
}
