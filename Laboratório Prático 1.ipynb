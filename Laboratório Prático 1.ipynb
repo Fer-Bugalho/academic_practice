{
 "cells": [
  {
   "cell_type": "code",
   "execution_count": 1,
   "metadata": {},
   "outputs": [
    {
     "name": "stdout",
     "output_type": "stream",
     "text": [
      "Área do círculo: 3.141592653589793\n"
     ]
    }
   ],
   "source": [
    "#Exercício 1: Cálculo de Área de um Círculo\n",
    "#Escreva um programa que calcula a área de um círculo. O usuário deve fornecer o raio e o programa deve retornar a área.\n",
    "\n",
    "import math\n",
    "\n",
    "def area_circulo(raio):\n",
    "\n",
    "    return math.pi * raio ** 2\n",
    "\n",
    "raio = float(input(\"Digite o raio do círculo: \"))\n",
    "\n",
    "print(\"Área do círculo:\", area_circulo(raio))"
   ]
  },
  {
   "cell_type": "code",
   "execution_count": 2,
   "metadata": {},
   "outputs": [
    {
     "name": "stdout",
     "output_type": "stream",
     "text": [
      "Temperatura em Celsius: -16.666666666666668\n"
     ]
    }
   ],
   "source": [
    "\n",
    "#Exercício 2: Conversão de Temperatura\n",
    "#Crie uma função que converte a temperatura de Celsius para Fahrenheit e vice-versa. O usuário deve informar a temperatura e a escala de origem.\n",
    "\n",
    "def celsius_para_fahrenheit(c):\n",
    "    return (c * 9 / 5) + 32\n",
    "\n",
    "def fahrenheit_para_celsius(f):\n",
    "    return (f - 32) * 5 / 9\n",
    "\n",
    "temp = float(input('Digite a temperatura: '))\n",
    "\n",
    "escala = input('Digite a escala (C para celsius, F para fahrenheit):')\n",
    "\n",
    "if escala.upper() == 'C':\n",
    "    print(\"Temperatura em Fahrenheit:\", celsius_para_fahrenheit(temp))\n",
    "else:\n",
    "    print(\"Temperatura em Celsius:\", fahrenheit_para_celsius(temp))"
   ]
  },
  {
   "cell_type": "code",
   "execution_count": 3,
   "metadata": {},
   "outputs": [
    {
     "name": "stdout",
     "output_type": "stream",
     "text": [
      "Solução da equação: -1.0\n"
     ]
    }
   ],
   "source": [
    "\n",
    "#Exercício 3: Resolver uma Equação Linear\n",
    "#Faça um programa que resolve uma equação linear do tipo ax + b = 0. Os valores de a e b são fornecidos pelo usuário.\n",
    "\n",
    "def resolve_linear (a,b):\n",
    "\n",
    "    if a == 0:\n",
    "        return \"Sem solução\" if b != 0 else \"Soluções infinitas!\"\n",
    "    \n",
    "    return - b / a\n",
    "\n",
    "a = float(input('Digite o valor de a: '))\n",
    "\n",
    "b = float(input('Digite o valor de b: '))\n",
    "\n",
    "print(\"Solução da equação:\", resolve_linear(a,b))"
   ]
  },
  {
   "cell_type": "code",
   "execution_count": 4,
   "metadata": {},
   "outputs": [
    {
     "name": "stdout",
     "output_type": "stream",
     "text": [
      "Média aritmética 3.0\n"
     ]
    }
   ],
   "source": [
    "#Exercício 4: Cálculo de Média Aritmética\n",
    "#Escreva um programa que calcula a média aritmética de uma lista de números fornecida pelo usuário.\n",
    "\n",
    "def media_aritmetica(numeros):\n",
    "\n",
    "    return sum(numeros) / len(numeros)\n",
    "\n",
    "numeros = [float(n) for n in input(\"Digite a lista de números separados por espaço: \").split()]\n",
    "\n",
    "print(\"Média aritmética\",media_aritmetica(numeros))"
   ]
  },
  {
   "cell_type": "code",
   "execution_count": 5,
   "metadata": {},
   "outputs": [
    {
     "name": "stdout",
     "output_type": "stream",
     "text": [
      "As raízes da equação são:  ((-0.5+0.8660254037844387j), (-0.5-0.8660254037844387j))\n"
     ]
    }
   ],
   "source": [
    "\n",
    "#Exercício 5: Determinar as Raízes de uma Equação Quadrática\n",
    "#Crie um programa que encontra as raízes de uma equação quadrática do tipo ax^2 + bx + c = 0. O programa deve lidar com todos os tipos de raízes (reais e complexas).\n",
    "\n",
    "import cmath\n",
    "\n",
    "def raizes_quadraticas (a, b, c):\n",
    "    delta = cmath.sqrt(b**2 - 4*a*c)\n",
    "\n",
    "    x1 = (-b + delta) / (2 * a)\n",
    "    \n",
    "    x2 = (-b - delta) / (2 * a)\n",
    "\n",
    "    return (x1, x2)\n",
    "\n",
    "a = float(input(\"Digite o valor de a: \"))\n",
    "\n",
    "b = float(input(\"Digite o valor de b: \"))\n",
    "\n",
    "c = float(input(\"Digite o valor de c: \"))\n",
    "\n",
    "print(\"As raízes da equação são: \", raizes_quadraticas(a, b, c))"
   ]
  },
  {
   "cell_type": "code",
   "execution_count": 6,
   "metadata": {},
   "outputs": [
    {
     "name": "stdout",
     "output_type": "stream",
     "text": [
      "Fatorial:  6\n"
     ]
    }
   ],
   "source": [
    "\n",
    "\n",
    "#Exercício 6: Calcular o Fatorial de um Número\n",
    "#Escreva uma função que calcula o fatorial de um número inteiro fornecido pelo usuário.\n",
    "\n",
    "def fatorial(n):\n",
    "\n",
    "    return 1 if n == 0 else n * fatorial(n-1)\n",
    "\n",
    "num = int(input(\"Digite um número \"))\n",
    "\n",
    "print(\"Fatorial: \", fatorial(num))\n",
    "\n"
   ]
  },
  {
   "cell_type": "code",
   "execution_count": 7,
   "metadata": {},
   "outputs": [
    {
     "name": "stdout",
     "output_type": "stream",
     "text": [
      "Sequências:  [0, 1, 1]\n"
     ]
    }
   ],
   "source": [
    "#Exercício 7: Sequência de Fibonacci\n",
    "#Crie um programa que gera a sequência de Fibonacci até um determinado número n fornecido pelo usuário.\n",
    "\n",
    "\n",
    "def fibonacci(n):\n",
    "\n",
    "    a , b = 0 , 1\n",
    "\n",
    "    for _ in range (n):\n",
    "\n",
    "        yield a\n",
    "\n",
    "        a, b = b, a + b\n",
    "\n",
    "n = int(input(\"Digite o número de termos da sequência de Fibonacci: \"))\n",
    "\n",
    "print(\"Sequências: \", list(fibonacci(n)))"
   ]
  },
  {
   "cell_type": "code",
   "execution_count": 8,
   "metadata": {},
   "outputs": [
    {
     "name": "stdout",
     "output_type": "stream",
     "text": [
      "Montante final: 192.0\n"
     ]
    }
   ],
   "source": [
    "\n",
    "\n",
    "#Exercício 8: Cálculo de Juros Compostos\n",
    "#Faça um programa que calcula o montante final de um investimento com juros compostos. O usuário deve fornecer o capital inicial, a taxa de juros anual, e o número de anos.\n",
    "\n",
    "def juros_compostos(capital, taxa, anos):\n",
    "\n",
    "    return capital * (1 + taxa) ** anos\n",
    "\n",
    "capital = float(input(\"Digite o capital inicial: \"))\n",
    "\n",
    "taxa = float(input(\"Digite a taxa de juros anual (em decimal): \"))\n",
    "\n",
    "anos = int(input(\"Digite o número de anos: \"))\n",
    "\n",
    "print(\"Montante final:\", juros_compostos(capital, taxa, anos))"
   ]
  },
  {
   "cell_type": "code",
   "execution_count": 9,
   "metadata": {},
   "outputs": [
    {
     "name": "stdout",
     "output_type": "stream",
     "text": [
      "Valor convertido:  9.0\n"
     ]
    }
   ],
   "source": [
    "\n",
    "#Exercício 9: Conversão de Moedas\n",
    "#Escreva um programa que converte uma quantidade de uma moeda (como dólar) para outra (como euro), considerando uma taxa de câmbio fornecida pelo usuário.\n",
    "\n",
    "def converter_moeda(valor,taxa_cambio):\n",
    "\n",
    "    return valor * taxa_cambio\n",
    "\n",
    "valor = float(input(\"Digite o valor da moeda original: \"))\n",
    "\n",
    "taxa_cambio = float(input(\"Digite a taxa de câmbio: \"))\n",
    "\n",
    "print(\"Valor convertido: \",converter_moeda(valor,taxa_cambio))"
   ]
  },
  {
   "cell_type": "code",
   "execution_count": 10,
   "metadata": {},
   "outputs": [
    {
     "name": "stdout",
     "output_type": "stream",
     "text": [
      "O número é primo!\n"
     ]
    }
   ],
   "source": [
    "#Exercício 10: Verificar se um Número é Primo\n",
    "#Crie uma função que verifica se um número fornecido pelo usuário é primo ou não.\n",
    "\n",
    "def e_primo(num):\n",
    "\n",
    "    if num < 2:\n",
    "        \n",
    "        return False\n",
    "    \n",
    "    for i in range (2,int(num**0.5) +1):\n",
    "\n",
    "        if num % i == 0:\n",
    "            return False\n",
    "    return True\n",
    "\n",
    "numero = int(input(\"Digite um número \"))\n",
    "\n",
    "print(\"O número é primo!\" if e_primo(numero) else \"O número não é primo!\")"
   ]
  }
 ],
 "metadata": {
  "kernelspec": {
   "display_name": "Python 3",
   "language": "python",
   "name": "python3"
  },
  "language_info": {
   "codemirror_mode": {
    "name": "ipython",
    "version": 3
   },
   "file_extension": ".py",
   "mimetype": "text/x-python",
   "name": "python",
   "nbconvert_exporter": "python",
   "pygments_lexer": "ipython3",
   "version": "3.12.4"
  }
 },
 "nbformat": 4,
 "nbformat_minor": 2
}
