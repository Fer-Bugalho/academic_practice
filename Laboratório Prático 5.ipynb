{
 "cells": [
  {
   "cell_type": "code",
   "execution_count": 1,
   "metadata": {},
   "outputs": [
    {
     "name": "stdout",
     "output_type": "stream",
     "text": [
      "5.196152422706632\n"
     ]
    }
   ],
   "source": [
    "# Exercício 1: Cálculo de Distância Euclidiana\n",
    "# Descrição: Escreva uma função em Python que receba dois vetores (listas de números) de mesma dimensão e retorne a distância euclidiana entre eles.\n",
    "\n",
    "def distancia_euclidiana (vetor1, vetor2):\n",
    "\n",
    "    soma_diferencas_quadradas = sum (( a - b ) ** 2 for a, b in zip(vetor1, vetor2))\n",
    "\n",
    "    return soma_diferencas_quadradas ** 0.5\n",
    "\n",
    "vetor_a = [1, 2, 3]\n",
    "vetor_b = [4, 5, 6]\n",
    "\n",
    "distancia = distancia_euclidiana(vetor_a, vetor_b)\n",
    "print(distancia)"
   ]
  },
  {
   "cell_type": "code",
   "execution_count": 10,
   "metadata": {},
   "outputs": [
    {
     "name": "stdout",
     "output_type": "stream",
     "text": [
      "A distância é: 5.196152422706632\n",
      "Erro: Os vetores devem ter a mesma dimensão para calcular a distância!\n"
     ]
    }
   ],
   "source": [
    "# Exercício 2: Distância Euclidiana com Validação de Dados\n",
    "# Descrição: Modifique a função do Exercício 1 para validar se os dois vetores têm o mesmo tamanho. \n",
    "# Se não tiverem, a função deve retornar um erro.\n",
    "\n",
    "def distancia_euclidiana_com_validacao(vetor1, vetor2):\n",
    "\n",
    "    if len(vetor1) != len(vetor2):\n",
    "        raise ValueError(\"Os vetores devem ter a mesma dimensão para calcular a distância!\")\n",
    "    \n",
    "    soma_diferencas_quadradas = sum(( a- b ) ** 2 for a, b in zip(vetor1, vetor2))\n",
    "\n",
    "    return soma_diferencas_quadradas ** 0.5\n",
    "\n",
    "# Exemplo com vetores do mesmo tamanho\n",
    "vetor_a = [1, 2, 3]\n",
    "vetor_b = [4, 5, 6]\n",
    "\n",
    "try:\n",
    "    distancia = distancia_euclidiana_com_validacao(vetor_a, vetor_b)\n",
    "    print(f\"A distância é: {distancia}\")\n",
    "except ValueError as e:\n",
    "    print(f\"Erro: {e}\")\n",
    "\n",
    "# Exemplo com vetores de tamanho diferentes\n",
    "\n",
    "vetor_c = [1, 2]\n",
    "vetor_d = [3, 4, 5]\n",
    "\n",
    "try:\n",
    "    distancia = distancia_euclidiana_com_validacao(vetor_c, vetor_d)\n",
    "    print(f\"A distância é: {distancia}\")\n",
    "except ValueError as e:\n",
    "    print(f\"Erro: {e}\")\n"
   ]
  },
  {
   "cell_type": "code",
   "execution_count": 11,
   "metadata": {},
   "outputs": [
    {
     "name": "stdout",
     "output_type": "stream",
     "text": [
      "8.0\n"
     ]
    }
   ],
   "source": [
    "# Exercício 3: Distância Euclidiana em N-Dimensões\n",
    "# Descrição:  Generalize  a  função  do  Exercício  1  para  que  ela  possa  calcular  a  distância euclidiana entre dois vetores em um espaço de qualquer número de dimensões.\n",
    "\n",
    "def distancia_euclidiana_nd(vetor1, vetor2):\n",
    "\n",
    "    if len(vetor1) != len(vetor2):\n",
    "        raise ValueError(\"Os vetores devem ter a mesma dimensão para calcular a distância!\")\n",
    "    \n",
    "    soma_diferencas_quadradas = sum(( a- b ) ** 2 for a, b in zip(vetor1, vetor2))\n",
    "\n",
    "    return soma_diferencas_quadradas ** 0.5\n",
    "\n",
    "vetor_a = [1, 2, 3, 4]\n",
    "vetor_b = [5, 6, 7, 8]\n",
    "\n",
    "distancia = distancia_euclidiana_nd(vetor_a, vetor_b)\n",
    "print(distancia)\n"
   ]
  },
  {
   "cell_type": "code",
   "execution_count": 12,
   "metadata": {},
   "outputs": [
    {
     "name": "stdout",
     "output_type": "stream",
     "text": [
      "O terceiro vetor está mais próximo do primeiro\n"
     ]
    }
   ],
   "source": [
    "# Exercício 4: Comparando Distâncias \n",
    "# Descrição:  Escreva  um  script  que  receba  três  vetores  de  mesma  dimensão. Calcule  a distância  euclidiana  entre  o  primeiro  e  os  outros  dois  vetores.  \n",
    "# Imprima  qual  dos  dois vetores está mais próximo do primeiro, baseado na distância euclidiana.\n",
    "\n",
    "def distancia_euclidiana(vetor1, vetor2):\n",
    "\n",
    "    return sum((a - b) ** 2 for a, b in zip(vetor1, vetor2)) ** 0.5\n",
    "\n",
    "def comparar_distancias(vetor1, vetor2, vetor3):\n",
    "\n",
    "    distancia1 = distancia_euclidiana(vetor1, vetor2)\n",
    "    distancia2 = distancia_euclidiana(vetor1, vetor3)\n",
    "\n",
    "    if distancia1 < distancia2:\n",
    "        return \"O segundo vetor está mais próximo do primeiro\"\n",
    "    elif distancia2 < distancia1:\n",
    "        return \"O terceiro vetor está mais próximo do primeiro\"\n",
    "    else:\n",
    "        return \"Os dois vetores estão à mesma distância do primeiro\"\n",
    "\n",
    "vetor_a = [1, 2, 3]\n",
    "vetor_b = [5.0, 0.7, 1/6]\n",
    "vetor_c = [1.4, 0.33, 2.2]\n",
    "\n",
    "resultado = comparar_distancias(vetor_a, vetor_b, vetor_c)\n",
    "print(resultado)"
   ]
  },
  {
   "cell_type": "code",
   "execution_count": 13,
   "metadata": {},
   "outputs": [
    {
     "name": "stdout",
     "output_type": "stream",
     "text": [
      "[2.4511230079292226, 5.9514707425980005, 10.901009311068403]\n"
     ]
    }
   ],
   "source": [
    "# Exercício 5: Aplicação em Data Science\n",
    "# Descrição: Dada uma matriz de  dados (lista de listas, onde cada sublista é um vetor de características)  e  um  vetor  de  referência,  \n",
    "# escreva  uma  função  que  calcule  a  distância euclidiana de cada vetor na matriz até o vetor de referência. A função deve retornar uma lista de distâncias.\n",
    "\n",
    "def calcular_distancias(matriz, vetor_referencia):\n",
    "\n",
    "    distancias = []\n",
    "\n",
    "    for vetor in matriz:\n",
    "        distancia = distancia_euclidiana(vetor, vetor_referencia)\n",
    "        distancias.append(distancia)\n",
    "\n",
    "    return  distancias\n",
    "\n",
    "matriz_dados = [\n",
    "    [1, 2, 3],\n",
    "    [4, 5, 6],\n",
    "    [7, 8, 9]\n",
    "]\n",
    "\n",
    "vetor_ref = [1.2, 3.4, 0.998]\n",
    "\n",
    "distancias = calcular_distancias(matriz_dados,vetor_ref)\n",
    "print(distancias)"
   ]
  }
 ],
 "metadata": {
  "kernelspec": {
   "display_name": "Python 3",
   "language": "python",
   "name": "python3"
  },
  "language_info": {
   "codemirror_mode": {
    "name": "ipython",
    "version": 3
   },
   "file_extension": ".py",
   "mimetype": "text/x-python",
   "name": "python",
   "nbconvert_exporter": "python",
   "pygments_lexer": "ipython3",
   "version": "3.12.4"
  }
 },
 "nbformat": 4,
 "nbformat_minor": 2
}
