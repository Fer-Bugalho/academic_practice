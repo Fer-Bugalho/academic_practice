{
 "cells": [
  {
   "cell_type": "code",
   "execution_count": 14,
   "metadata": {},
   "outputs": [
    {
     "name": "stdout",
     "output_type": "stream",
     "text": [
      "[40 40 40]\n",
      "[np.int64(40), np.int64(40), np.int64(40)]\n",
      "[np.int64(40), np.int64(40), np.int64(40)]\n"
     ]
    }
   ],
   "source": [
    "#Exercício 1: Soma de Vetores\n",
    "#Descrição:  Escreva  uma  função  em  Python  que  some  dois  vetores.  Suponha  que  os vetores  têm  o  mesmo  tamanho.\n",
    "\n",
    "#Tipo1\n",
    "\n",
    "import numpy as np\n",
    "\n",
    "vetor1 = np.array([10, 20, 30])\n",
    "vetor2 = np.array([30, 20, 10])\n",
    "\n",
    "#Tipo1\n",
    "\n",
    "vetor_soma1 = vetor1 + vetor2\n",
    "print(vetor_soma1)\n",
    "\n",
    "#Tipo2 - Melhor opção para performance melhor quando for quantidade de dados grande. Por conta da função built-in ZIP.\n",
    "\n",
    "def somar_vetores(x, y):\n",
    "\n",
    "    return [x + y for x, y in zip(vetor1, vetor2)]\n",
    "\n",
    "vetor_soma2 = somar_vetores(vetor1, vetor2)\n",
    "print(vetor_soma2)\n",
    "\n",
    "#Tipo3 - Loop\n",
    "\n",
    "def adicionar_vetores(primeiro_vetor, segundo_vetor):\n",
    "\n",
    "    resultado_vetor = []\n",
    "\n",
    "    for i in range(len(primeiro_vetor)):\n",
    "        resultado_vetor.append(primeiro_vetor[i] + segundo_vetor[i])\n",
    "\n",
    "    return resultado_vetor\n",
    "\n",
    "vetor_soma3 = adicionar_vetores(vetor1, vetor2)\n",
    "print(vetor_soma3)\n"
   ]
  },
  {
   "cell_type": "code",
   "execution_count": 23,
   "metadata": {},
   "outputs": [
    {
     "name": "stdout",
     "output_type": "stream",
     "text": [
      "Prod1: 70\n",
      "Prod2: 70\n",
      "Prod3: 70\n"
     ]
    }
   ],
   "source": [
    "#Exercício 2: Produto Escalar\n",
    "#Descrição:  Implemente  uma  função  que  calcule  o  produto  escalar  entre  dois  vetores.\n",
    "\n",
    "import numpy as np\n",
    "\n",
    "vetor_1 = np.array([1, 2, 3, 4])\n",
    "vetor_2 = np.array([5, 6, 7, 8])\n",
    "\n",
    "#Tipo1\n",
    "\n",
    "resultado_1 = np.dot(vetor_1, vetor_2)\n",
    "print(\"Prod1:\", resultado_1)\n",
    "\n",
    "#Tipo2\n",
    "\n",
    "def calcular_prod_escalar_2(v1, v2):\n",
    "\n",
    "    resultado = 0\n",
    "\n",
    "    for i in range(len(v1)):\n",
    "            resultado += v1[i] * v2[i]\n",
    "    \n",
    "    return resultado\n",
    "\n",
    "resultado_2 = calcular_prod_escalar_2(vetor_1, vetor_2)\n",
    "print(\"Prod2:\", resultado_2)\n",
    "\n",
    "#Tipo3\n",
    "\n",
    "def calcular_prod_escalar_3(v1_3,v2_3):\n",
    "      \n",
    "      return sum( x * y for x, y in zip(v1_3,v2_3))\n",
    "\n",
    "resultado_3 = calcular_prod_escalar_3(vetor_1, vetor_2)\n",
    "print(\"Prod3:\", resultado_3)\n",
    "\n",
    "\n"
   ]
  },
  {
   "cell_type": "code",
   "execution_count": 26,
   "metadata": {},
   "outputs": [
    {
     "name": "stdout",
     "output_type": "stream",
     "text": [
      "Norma1: 5.0\n",
      "Norma2: 5.0\n"
     ]
    }
   ],
   "source": [
    "#Exercício 3: Norma de um Vetor\n",
    "#Descrição: Escreva uma função que calcule a norma (ou comprimento) de um vetor.\n",
    "\n",
    "# Medir a magnitude de vetores em algoritmos de otimização e aprendizagem de máquina.\n",
    "\n",
    "import numpy as np\n",
    "\n",
    "vetor_norma = np.array([3, 4])\n",
    "\n",
    "#Tipo1\n",
    "\n",
    "norma = np.linalg.norm(vetor_norma)\n",
    "\n",
    "print(\"Norma1:\",norma)\n",
    "\n",
    "#Tipo2\n",
    "\n",
    "import math\n",
    "\n",
    "def calcular_norma(vetor):\n",
    "\n",
    "    return math.sqrt(sum(x ** 2 for x in vetor))\n",
    "\n",
    "norma_vetor = calcular_norma(vetor_norma)\n",
    "print(\"Norma2:\", norma_vetor)\n",
    "\n",
    "\n"
   ]
  },
  {
   "cell_type": "code",
   "execution_count": 28,
   "metadata": {},
   "outputs": [
    {
     "name": "stdout",
     "output_type": "stream",
     "text": [
      "Angulo1: 12.933154491899135\n",
      "Angulo2: 12.933154491899135\n"
     ]
    }
   ],
   "source": [
    "#Exercício 4: Ângulo entre Dois Vetores\n",
    "#Descrição: Implemente uma função que calcule o ângulo (em graus) entre dois vetores.\n",
    "\n",
    "#Tipo1\n",
    "\n",
    "import numpy as np\n",
    "\n",
    "def angulo_entre_vetores(vetor1, vetor2):\n",
    "    \n",
    "    produto_escalar = np.dot(vetor1, vetor2)\n",
    "    # Encontrar a relação angular entre os dois vetores.\n",
    "\n",
    "    norma_vetor1 = np.linalg.norm(vetor1)\n",
    "    norma_vetor2 = np.linalg.norm(vetor2)\n",
    "    # Nós a usamos para normalizar a relação angular calculada pelo produto escalar.\n",
    "\n",
    "    cos_theta = produto_escalar / (norma_vetor1 * norma_vetor2)\n",
    "    # e A . B é o produto escalar. Isso nos dá o cosseno do ângulo θ.\n",
    "\n",
    "    angulo_radianos = np.arccos(cos_theta)\n",
    "    # A função arccos (arcosseno) é usada para obter o ângulo θ (em radianos) \n",
    "    # a partir do valor do cosseno.\n",
    "\n",
    "    angulo_graus = np.degrees(angulo_radianos)\n",
    "    # Convertendo o ângulo de radianos para graus porque a maioria dos \n",
    "    # contextos práticos usa graus para ângulos.\n",
    "\n",
    "    return angulo_graus\n",
    "\n",
    "vetor1 = np.array([1, 2, 3])\n",
    "vetor2 = np.array([4, 5, 6])\n",
    "angulo = angulo_entre_vetores(vetor1, vetor2)\n",
    "\n",
    "print(\"Angulo1:\", angulo)\n",
    "\n",
    "#Tipo2\n",
    "\n",
    "import math\n",
    "\n",
    "def calcular_angulo(vetor1, vetor2):\n",
    "\n",
    "    produto_escalar = sum(x * y for x, y in zip(vetor1, vetor2))\n",
    "\n",
    "    norma_vetor1 = math.sqrt(sum(x ** 2 for x in vetor1))\n",
    "    norma_vetor2 = math.sqrt(sum(x ** 2 for x in vetor2))\n",
    "\n",
    "    cos_angulo = produto_escalar / (norma_vetor1 * norma_vetor2)\n",
    "\n",
    "    angulo = math.acos(cos_angulo) * (180 / math.pi)\n",
    "\n",
    "    return angulo\n",
    "\n",
    "angulo = calcular_angulo(vetor1, vetor2)\n",
    "print(\"Angulo2:\", angulo)\n"
   ]
  },
  {
   "cell_type": "code",
   "execution_count": 29,
   "metadata": {},
   "outputs": [
    {
     "name": "stdout",
     "output_type": "stream",
     "text": [
      "Projeção de A sobre B: [2.2 4.4]\n",
      "Projeção de A sobre B: [np.float64(2.2), np.float64(4.4)]\n"
     ]
    }
   ],
   "source": [
    "#Exercício 5: Projeção de um Vetor sobre Outro\n",
    "#Descrição: Escreva uma função que encontre a projeção de um vetor sobre outro vetor.\n",
    "\n",
    "import numpy as np\n",
    "\n",
    "# Vetores A e B\n",
    "A = np.array([3, 4])\n",
    "B = np.array([1, 2])\n",
    "\n",
    "# Produto escalar de A e B\n",
    "produto_escalar = np.dot(A, B)\n",
    "\n",
    "# Norma ao quadrado de B\n",
    "norma_B_quadrado = np.dot(B, B)\n",
    "\n",
    "# Projeção de A sobre B\n",
    "projecao = (produto_escalar / norma_B_quadrado) * B\n",
    "\n",
    "print(\"Projeção de A sobre B:\", projecao)\n",
    "\n",
    "#Tipo2\n",
    "\n",
    "def projetar_vetor(vetor_a, vetor_b):\n",
    "\n",
    "    produto_escalar = sum (a * b for a, b in zip(vetor_a, vetor_b))\n",
    "\n",
    "    norma_quadrado_vetor_b = sum (b ** 2 for b in vetor_b)\n",
    "\n",
    "    escala = produto_escalar / norma_quadrado_vetor_b\n",
    "\n",
    "    projecao = [escala * b for b in vetor_b]\n",
    "\n",
    "    return projecao\n",
    "\n",
    "projecao_vetor_a_sobre_b = projetar_vetor(A, B)\n",
    "print(\"Projeção de A sobre B:\", projecao_vetor_a_sobre_b)"
   ]
  }
 ],
 "metadata": {
  "kernelspec": {
   "display_name": "Python 3",
   "language": "python",
   "name": "python3"
  },
  "language_info": {
   "codemirror_mode": {
    "name": "ipython",
    "version": 3
   },
   "file_extension": ".py",
   "mimetype": "text/x-python",
   "name": "python",
   "nbconvert_exporter": "python",
   "pygments_lexer": "ipython3",
   "version": "3.12.4"
  }
 },
 "nbformat": 4,
 "nbformat_minor": 2
}
