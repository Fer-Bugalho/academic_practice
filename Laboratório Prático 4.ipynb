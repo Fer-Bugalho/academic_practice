{
 "cells": [
  {
   "cell_type": "code",
   "execution_count": 13,
   "metadata": {},
   "outputs": [
    {
     "name": "stdout",
     "output_type": "stream",
     "text": [
      "27\n"
     ]
    }
   ],
   "source": [
    "# Exercício 1: Produto Escalar em Aplicação Prática\n",
    "# Descrição:  Dados  dois  vetores  que  representam  preferências  de  usuários  em  três categorias diferentes \n",
    "# user1 = [4, 3, 2] e user2 = [1, 5, 4], calcule a similaridade entre esses usuários usando o produto escalar.\n",
    "\n",
    "# Importando a biblioteca Python\n",
    "import numpy as np\n",
    "\n",
    "# Definindo os vetores\n",
    "user1 = np.array([4, 3, 2])\n",
    "user2 = np.array([1, 5, 4])\n",
    "\n",
    "# Calcular o produto escalar (dot product)\n",
    "resultado_1 = np.dot( user1, user2 )\n",
    "print(resultado_1)"
   ]
  },
  {
   "cell_type": "code",
   "execution_count": 14,
   "metadata": {},
   "outputs": [],
   "source": [
    "# Explicação: O número resultante da operação significa a magnitude da similaridade onde, quanto maior for o número maior será a similaridade entre eles. \n",
    "# Sendo positivo significa que os vetores apontam na mesma direção tenho uma orientação geral semelhante no espaço vetorial considerado.\n",
    "# Indica portanto na questão de contexto destes dados que os mesmos possuem alta similaridade de preferências."
   ]
  },
  {
   "cell_type": "code",
   "execution_count": 20,
   "metadata": {},
   "outputs": [
    {
     "name": "stdout",
     "output_type": "stream",
     "text": [
      "[18.   18.75 19.5  19.2  20.25]\n",
      "[138.   143.75 149.5  147.2  155.25]\n"
     ]
    }
   ],
   "source": [
    "# Exercício 2: Multiplicação de Escalar por Vetor em Dados Reais\n",
    "# Descrição: Dada uma série de preços de ações prices= [120, 125, 130, 128, 135], ajuste os preços em 15% e calcule o novo preço das ações.\n",
    "\n",
    "# Importando a biblioteca Python\n",
    "import numpy as np\n",
    "\n",
    "# Definindo o vetor\n",
    "prices = np.array([120, 125, 130, 128, 135])\n",
    "\n",
    "#Definindo o valor escalar\n",
    "ajuste = 0.15\n",
    "\n",
    "# Calculando a multiplicação escalar\n",
    "resultado_2a = prices * ajuste\n",
    "print(resultado_2a)\n",
    "\n",
    "# Calculando o novo valor dos preços\n",
    "resultado_2b = resultado_2a + prices\n",
    "print(resultado_2b)\n"
   ]
  },
  {
   "cell_type": "code",
   "execution_count": 21,
   "metadata": {},
   "outputs": [
    {
     "name": "stdout",
     "output_type": "stream",
     "text": [
      "[138.   143.75 149.5  147.2  155.25]\n"
     ]
    }
   ],
   "source": [
    "# Opção 2 - Exercício 2\n",
    "\n",
    "# Importando a biblioteca Python\n",
    "import numpy as np\n",
    "\n",
    "# Definindo o vetor\n",
    "prices = np.array([120, 125, 130, 128, 135])\n",
    "\n",
    "#Definindo o valor escalar\n",
    "ajuste = 1.15\n",
    "\n",
    "# Calculando a multiplicação escalar e o ajuste nos preços\n",
    "resultado_2c = prices * ajuste\n",
    "print(resultado_2c)"
   ]
  },
  {
   "cell_type": "code",
   "execution_count": 34,
   "metadata": {},
   "outputs": [
    {
     "name": "stdout",
     "output_type": "stream",
     "text": [
      "[0.42427197 0.56568183 0.70710492]\n"
     ]
    }
   ],
   "source": [
    "# Exercício 3: Otimização de Produto Escalar\n",
    "# Descrição: Encontre o vetor unitário que maximiza o produto escalar com o vetor v = [3, 4, 5]. \n",
    "# Use técnicas de otimização para encontrar a solução.\n",
    "\n",
    "# Importando a biblioteca Python\n",
    "import numpy as np\n",
    "import scipy\n",
    "from scipy.optimize import minimize # função geral para otimização numérica de funções escalares.\n",
    "\n",
    "# Definindo o vetor\n",
    "v = np.array([3, 4, 5])\n",
    "\n",
    "# Função objetivo para calcular o produto escalar negativo do vetor v com o vetor x. \n",
    "def funcao_objetivo(x):\n",
    "    return -np.dot(v, x)\n",
    "\n",
    "# Variável constraint como restrição para exigir que a magnitude do vetor x seja 1, tornando o vetor unitário.\n",
    "constraint = { 'type': 'eq', 'fun': lambda x: np.linalg.norm(x) -1 }\n",
    "# Chave 'type': 'eq' indica a restrição de igualdade devendo a função resultar em 0\n",
    "\n",
    "# Solução para a otimização\n",
    "resultado_3 = minimize(funcao_objetivo, np.ones(3), constraints = constraint)\n",
    "vetor_otimizado = resultado_3.x\n",
    "\n",
    "print(vetor_otimizado)\n"
   ]
  },
  {
   "cell_type": "code",
   "execution_count": 13,
   "metadata": {},
   "outputs": [
    {
     "name": "stdout",
     "output_type": "stream",
     "text": [
      "[0 0 0]\n"
     ]
    }
   ],
   "source": [
    "# Exercício 4: Produto Vetorial e Direção Normal\n",
    "# Descrição:  Dados  três  pontos  no  espaço  3D:\n",
    "# A  =  [1,  2,  3],  B  =  [4,  5,  6],  e  C  =  [7,  8,  9], encontre um vetor normal ao plano definido por esses três pontos.\n",
    "\n",
    "# Importando biblioteca python\n",
    "import numpy as np\n",
    "\n",
    "# Definindo os vetores\n",
    "A  = np.array([1,  2,  3]) \n",
    "B  = np.array([4,  5,  6])\n",
    "C  = np.array([7,  8,  9])\n",
    "\n",
    "# Calculando dos vetores direcionais a partir dos pontos\n",
    "AB = B - A\n",
    "AC = C - A\n",
    "\n",
    "# Cálculo do produto vetorial\n",
    "resultado_4 = np.cross(AB, AC)\n",
    "print(resultado_4)\n",
    "\n",
    "# Explicação: os 03 pontos A, B e C são colineares no espaço 3D, ou seja estão alinhados em um única reta não formando um plano distinto no qual um vetor normal único possa ser definido."
   ]
  },
  {
   "cell_type": "code",
   "execution_count": 15,
   "metadata": {},
   "outputs": [
    {
     "name": "stdout",
     "output_type": "stream",
     "text": [
      "[0 0 0]\n"
     ]
    }
   ],
   "source": [
    "# Exercício 5: Produto Vetorial em Análise de Dados\n",
    "# Descrição: Em um conjunto de dados 3D com pontos p1 = [1, 2, 3], p2 = [4, 5, 6], e p3 = [7, 8, 9],\n",
    "# encontre o vetor normal ao plano formado por esses três pontos e interprete seu significado em termos de orientação do plano.\n",
    "\n",
    "# Importando biblioteca python\n",
    "import numpy as np\n",
    "\n",
    "# Definindo os vetores\n",
    "p1  = np.array([1,  2,  3]) \n",
    "p2  = np.array([4,  5,  6])\n",
    "p3  = np.array([7,  8,  9])\n",
    "\n",
    "# Calculando dos vetores direcionais a partir dos pontos\n",
    "p1p2 = p2 - p1\n",
    "p1p3 = p3 - p1\n",
    "\n",
    "# Cálculo do produto vetorial\n",
    "resultado_5 = np.cross(p1p2, p1p3)\n",
    "print(resultado_5)\n",
    "\n",
    "# Explicação: os 03 pontos p1, p2 e p3 são colineares no espaço 3D, ou seja estão alinhados em um única reta não formando um plano distinto no qual um vetor normal único possa ser definido."
   ]
  }
 ],
 "metadata": {
  "kernelspec": {
   "display_name": "Python 3",
   "language": "python",
   "name": "python3"
  },
  "language_info": {
   "codemirror_mode": {
    "name": "ipython",
    "version": 3
   },
   "file_extension": ".py",
   "mimetype": "text/x-python",
   "name": "python",
   "nbconvert_exporter": "python",
   "pygments_lexer": "ipython3",
   "version": "3.12.4"
  }
 },
 "nbformat": 4,
 "nbformat_minor": 2
}
